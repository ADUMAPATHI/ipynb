{
 "cells": [
  {
   "cell_type": "code",
   "execution_count": 1,
   "id": "26434900",
   "metadata": {},
   "outputs": [],
   "source": [
    "import numpy as np\n",
    "import pandas as pd\n",
    "import seaborn as sb\n",
    "import matplotlib.pyplot as plt\n",
    "import requests\n",
    "from bs4 import BeautifulSoup\n",
    "import re\n",
    "import time"
   ]
  },
  {
   "cell_type": "code",
   "execution_count": null,
   "id": "198b047d",
   "metadata": {},
   "outputs": [
    {
     "name": "stdout",
     "output_type": "stream",
     "text": [
      "reading data\n",
      "reading data\n",
      "reading data\n",
      "reading data\n",
      "reading data\n"
     ]
    }
   ],
   "source": [
    "carname=[]\n",
    "price=[]\n",
    "rating=[]\n",
    "features=[]\n",
    "for i in range(1,21):\n",
    "    url='https://www.cars24.com/buy-used-car/?sort=P&storeCityId=3686&pinId=500001&page={}'.format(i)\n",
    "    page=requests.get(url)\n",
    "    soup=BeautifulSoup(page.text)\n",
    "    for x in soup.find_all('div',attrs={'class':'col-4'}):\n",
    "        for i in x.find_all('a',href=True):\n",
    "            page1=requests.get(i['href'])\n",
    "            soup1=BeautifulSoup(page1.text)\n",
    "            for i in soup1.find_all('div',attrs={'class':'_3Ii-d'}):\n",
    "                pname=i.find('p',attrs={'class':'_3Uk5w'})\n",
    "                cost=i.find('h4',attrs={'class':\"_3AzX6\"})\n",
    "                rat=i.find('p',attrs={'class':\"_3bipb\"})\n",
    "                specs=i.find('div',attrs={'class':'jwy8y'})\n",
    "                if pname is None:\n",
    "                    carname.append(np.NaN)\n",
    "                else:\n",
    "                    carname.append(pname.text)\n",
    "                if cost is None:\n",
    "                    price.append(np.NaN)\n",
    "                else:\n",
    "                    price.append(cost.text)\n",
    "                if rat is None:\n",
    "                    rating.append(np.NaN)\n",
    "                else:\n",
    "                    rating.append(rat.text)\n",
    "                if specs is None:\n",
    "                    features.append(np.NaN)\n",
    "                else:\n",
    "                    features.append(specs.text)\n",
    "                print('reading data')\n",
    "        "
   ]
  },
  {
   "cell_type": "code",
   "execution_count": null,
   "id": "bd72620d",
   "metadata": {},
   "outputs": [],
   "source": [
    "features"
   ]
  },
  {
   "cell_type": "code",
   "execution_count": null,
   "id": "c1c9b952",
   "metadata": {},
   "outputs": [],
   "source": [
    "price"
   ]
  },
  {
   "cell_type": "code",
   "execution_count": null,
   "id": "d20f9b15",
   "metadata": {},
   "outputs": [],
   "source": [
    "rating"
   ]
  },
  {
   "cell_type": "code",
   "execution_count": null,
   "id": "ba8442e9",
   "metadata": {},
   "outputs": [],
   "source": [
    "price"
   ]
  },
  {
   "cell_type": "code",
   "execution_count": null,
   "id": "1c18647c",
   "metadata": {},
   "outputs": [],
   "source": []
  },
  {
   "cell_type": "code",
   "execution_count": null,
   "id": "1da1027a",
   "metadata": {},
   "outputs": [],
   "source": [
    "url='https://www.cars24.com/buy-used-car?sort=P&storeCityId=2&pinId=110001'\n",
    "page=requests.get(url)\n",
    "pagecontent=page.text\n",
    "print(pagecontent)\n"
   ]
  },
  {
   "cell_type": "code",
   "execution_count": null,
   "id": "d80a4296",
   "metadata": {},
   "outputs": [],
   "source": [
    "rating\n"
   ]
  },
  {
   "cell_type": "code",
   "execution_count": null,
   "id": "4d47a90a",
   "metadata": {},
   "outputs": [],
   "source": [
    "url='https://www.cars24.com/buy-used-car?sort=P&storeCityId=2&pinId=110001'\n",
    "page=requests.get(url)\n",
    "pagecontent=page.text\n",
    "soup=BeautifulSoup(pagecontent)\n",
    "for x in soup.find_all('div',attrs={'class':'col-4'}):\n",
    "    link=x.find_all('a',attrs={'class':'_20d39'})\n",
    "    print(link[0])\n",
    "    "
   ]
  },
  {
   "cell_type": "code",
   "execution_count": null,
   "id": "5f5b13b0",
   "metadata": {},
   "outputs": [],
   "source": [
    "url='https://www.cars24.com/buy-used-car?sort=P&storeCityId=2&pinId=110001'\n",
    "page=requests.get(url)\n",
    "soup=BeautifulSoup(page.text)\n",
    "for x in soup.find_all('div',attrs={'class':'col-4'}):\n",
    "    for i in x.find_all('a',href=True):\n",
    "        page1=requests.get(i['href'])\n",
    "        soup=BeautifulSoup(page1.text)\n",
    "        "
   ]
  },
  {
   "cell_type": "code",
   "execution_count": null,
   "id": "6c46635d",
   "metadata": {},
   "outputs": [],
   "source": []
  },
  {
   "cell_type": "code",
   "execution_count": null,
   "id": "8c7df4da",
   "metadata": {},
   "outputs": [],
   "source": []
  },
  {
   "cell_type": "code",
   "execution_count": null,
   "id": "9e331f9f",
   "metadata": {},
   "outputs": [],
   "source": []
  },
  {
   "cell_type": "code",
   "execution_count": null,
   "id": "be3e76f0",
   "metadata": {},
   "outputs": [],
   "source": []
  }
 ],
 "metadata": {
  "kernelspec": {
   "display_name": "Python 3",
   "language": "python",
   "name": "python3"
  },
  "language_info": {
   "codemirror_mode": {
    "name": "ipython",
    "version": 3
   },
   "file_extension": ".py",
   "mimetype": "text/x-python",
   "name": "python",
   "nbconvert_exporter": "python",
   "pygments_lexer": "ipython3",
   "version": "3.8.8"
  }
 },
 "nbformat": 4,
 "nbformat_minor": 5
}
